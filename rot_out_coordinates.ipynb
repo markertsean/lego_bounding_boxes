{
 "cells": [
  {
   "cell_type": "code",
   "execution_count": 20,
   "metadata": {
    "collapsed": false
   },
   "outputs": [],
   "source": [
    "with open('output_info.txt','r') as in_f:\n",
    "\n",
    "    with open('mod_output_info.txt','w') as out_f:\n",
    "        counter = 0\n",
    "\n",
    "        for row in in_f:\n",
    "\n",
    "            row_elements = row.split(',')\n",
    "#            for i in range( len(row_elements)-1 ):\n",
    "\n",
    "#                print row_elements[i]\n",
    "\n",
    "            # Image path without quotes\n",
    "            out_str = row_elements[0][1:-1]\n",
    "\n",
    "            out_str = out_str + ','\n",
    "            \n",
    "            # To swap y and x, need to swap 1 and 2, 3 and 4\n",
    "            out_str = out_str + (\n",
    "                                   ' ('                 + \n",
    "                                    row_elements[2][1:] + # Remove space\n",
    "                                    ' '                 +\n",
    "                                    row_elements[1][1:] + # Remove brace\n",
    "                                    ' '                 +\n",
    "                                    row_elements[4][1:-1]+ # Remove space then brace\n",
    "                                    ' '                  +\n",
    "                                    row_elements[3][1:]  + # Remove space\n",
    "                                   ')'\n",
    "                                )\n",
    "                \n",
    "            out_str = out_str + ','\n",
    "            \n",
    "            out_str = out_str + ' lego\\n'\n",
    "            \n",
    "            out_f.write( out_str )\n",
    "#            if counter > 5:\n",
    "#                break\n",
    "            counter = counter + 1"
   ]
  },
  {
   "cell_type": "code",
   "execution_count": null,
   "metadata": {
    "collapsed": true
   },
   "outputs": [],
   "source": []
  }
 ],
 "metadata": {
  "kernelspec": {
   "display_name": "Python 2",
   "language": "python",
   "name": "python2"
  },
  "language_info": {
   "codemirror_mode": {
    "name": "ipython",
    "version": 2
   },
   "file_extension": ".py",
   "mimetype": "text/x-python",
   "name": "python",
   "nbconvert_exporter": "python",
   "pygments_lexer": "ipython2",
   "version": "2.7.13"
  }
 },
 "nbformat": 4,
 "nbformat_minor": 2
}
