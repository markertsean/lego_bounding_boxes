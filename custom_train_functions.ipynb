{
 "cells": [
  {
   "cell_type": "code",
   "execution_count": 23,
   "metadata": {
    "collapsed": false
   },
   "outputs": [],
   "source": [
    "import cv2\n",
    "from PIL import Image\n",
    "import matplotlib.pyplot as plt\n",
    "\n",
    "%matplotlib inline\n",
    "\n",
    "\n",
    "_inp_file = 'mod_output_info.txt'\n",
    "\n",
    "def get_seans_data():\n",
    "    \n",
    "    data = []\n",
    "    with open( _inp_file, 'r' ) as f:\n",
    "        for row in f:\n",
    "            data.append( row.split(',') )\n",
    "            \n",
    "    \n",
    "    return data\n",
    "\n",
    "\n",
    "def read_pass_data( inp_data ):\n",
    "\n",
    "    ret_list = []\n",
    "    \n",
    "    tup_list = []\n",
    "\n",
    "    for i in range( 0, len(inp_data) ):\n",
    "    \n",
    "        # Get the image\n",
    "        img = Image.open( inp_data[i][0] )\n",
    "\n",
    "        # Get the tuple\n",
    "        tup = inp_data[i][1][1:].strip('(').strip(')')\n",
    "        tup = tup.split(' ')\n",
    "        tup_list.append( ( int(tup[0]), int(tup[1]), int(tup[2]), int(tup[3]) ) )\n",
    "    \n",
    "        ret_list.append( (img.copy(),tup_list[-1],'lego') )\n",
    "\n",
    "    print ret_list"
   ]
  },
  {
   "cell_type": "code",
   "execution_count": 3,
   "metadata": {
    "collapsed": false
   },
   "outputs": [],
   "source": [
    "all_data = get_seans_data()"
   ]
  },
  {
   "cell_type": "code",
   "execution_count": null,
   "metadata": {
    "collapsed": true
   },
   "outputs": [],
   "source": []
  }
 ],
 "metadata": {
  "kernelspec": {
   "display_name": "Python 2",
   "language": "python",
   "name": "python2"
  },
  "language_info": {
   "codemirror_mode": {
    "name": "ipython",
    "version": 2
   },
   "file_extension": ".py",
   "mimetype": "text/x-python",
   "name": "python",
   "nbconvert_exporter": "python",
   "pygments_lexer": "ipython2",
   "version": "2.7.13"
  }
 },
 "nbformat": 4,
 "nbformat_minor": 2
}
